{
 "cells": [
  {
   "cell_type": "code",
   "execution_count": 2,
   "id": "786d6e2f",
   "metadata": {},
   "outputs": [
    {
     "name": "stdout",
     "output_type": "stream",
     "text": [
      "<class 'pandas.core.frame.DataFrame'>\n",
      "RangeIndex: 16853 entries, 0 to 16852\n",
      "Data columns (total 10 columns):\n",
      " #   Column             Non-Null Count  Dtype  \n",
      "---  ------             --------------  -----  \n",
      " 0   canonical_smiles   16853 non-null  object \n",
      " 1   pIC50              16853 non-null  float64\n",
      " 2   MolWt              16853 non-null  float32\n",
      " 3   MolLogP            16853 non-null  float32\n",
      " 4   NumHDonors         16853 non-null  uint8  \n",
      " 5   NumHAcceptors      16853 non-null  uint8  \n",
      " 6   NumRotatableBonds  16853 non-null  uint8  \n",
      " 7   RingCount          16853 non-null  uint8  \n",
      " 8   NumAromaticRings   16853 non-null  uint8  \n",
      " 9   TPSA               16853 non-null  float32\n",
      "dtypes: float32(3), float64(1), object(1), uint8(5)\n",
      "memory usage: 543.2+ KB\n"
     ]
    }
   ],
   "source": [
    "import pandas as pd\n",
    "pd.read_parquet(\"../data/preprocessed.parquet\").info()"
   ]
  }
 ],
 "metadata": {
  "kernelspec": {
   "display_name": "itmo_dde",
   "language": "python",
   "name": "python3"
  },
  "language_info": {
   "codemirror_mode": {
    "name": "ipython",
    "version": 3
   },
   "file_extension": ".py",
   "mimetype": "text/x-python",
   "name": "python",
   "nbconvert_exporter": "python",
   "pygments_lexer": "ipython3",
   "version": "3.13.7"
  }
 },
 "nbformat": 4,
 "nbformat_minor": 5
}
