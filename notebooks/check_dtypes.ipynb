{
 "cells": [
  {
   "cell_type": "code",
   "execution_count": 1,
   "id": "786d6e2f",
   "metadata": {},
   "outputs": [
    {
     "name": "stdout",
     "output_type": "stream",
     "text": [
      "<class 'pandas.core.frame.DataFrame'>\n",
      "RangeIndex: 16853 entries, 0 to 16852\n",
      "Data columns (total 10 columns):\n",
      " #   Column             Non-Null Count  Dtype  \n",
      "---  ------             --------------  -----  \n",
      " 0   canonical_smiles   16853 non-null  object \n",
      " 1   pIC50              16853 non-null  float64\n",
      " 2   MolWt              16853 non-null  float32\n",
      " 3   MolLogP            16853 non-null  float32\n",
      " 4   NumHDonors         16853 non-null  uint8  \n",
      " 5   NumHAcceptors      16853 non-null  uint8  \n",
      " 6   NumRotatableBonds  16853 non-null  uint8  \n",
      " 7   RingCount          16853 non-null  uint8  \n",
      " 8   NumAromaticRings   16853 non-null  uint8  \n",
      " 9   TPSA               16853 non-null  float32\n",
      "dtypes: float32(3), float64(1), object(1), uint8(5)\n",
      "memory usage: 543.2+ KB\n"
     ]
    },
    {
     "data": {
      "text/plain": [
       "None"
      ]
     },
     "metadata": {},
     "output_type": "display_data"
    },
    {
     "data": {
      "application/vnd.microsoft.datawrangler.viewer.v0+json": {
       "columns": [
        {
         "name": "index",
         "rawType": "int64",
         "type": "integer"
        },
        {
         "name": "canonical_smiles",
         "rawType": "object",
         "type": "string"
        },
        {
         "name": "pIC50",
         "rawType": "float64",
         "type": "float"
        },
        {
         "name": "MolWt",
         "rawType": "float32",
         "type": "float"
        },
        {
         "name": "MolLogP",
         "rawType": "float32",
         "type": "float"
        },
        {
         "name": "NumHDonors",
         "rawType": "uint8",
         "type": "integer"
        },
        {
         "name": "NumHAcceptors",
         "rawType": "uint8",
         "type": "integer"
        },
        {
         "name": "NumRotatableBonds",
         "rawType": "uint8",
         "type": "integer"
        },
        {
         "name": "RingCount",
         "rawType": "uint8",
         "type": "integer"
        },
        {
         "name": "NumAromaticRings",
         "rawType": "uint8",
         "type": "integer"
        },
        {
         "name": "TPSA",
         "rawType": "float32",
         "type": "float"
        }
       ],
       "ref": "f8544305-f5ce-4ee6-a1a4-8cc4aeace0cd",
       "rows": [
        [
         "0",
         "CC1(C)C(N)=N[C@](C)(c2cc(NC(=O)c3ccc(C#N)cn3)ccc2F)CS1(=O)=O",
         "12.698970004336019",
         "429.477",
         "2.12408",
         "2",
         "7",
         "3",
         "3",
         "2",
         "138.3"
        ],
        [
         "1",
         "C[C@]1(CS(=O)(=O)C(C(=N1)N)(C)C)C2=C(C=CC(=C2)NC(=O)C3=NC=C(C=C3)C#N)F",
         "12.698970004336019",
         "429.477",
         "2.12408",
         "2",
         "7",
         "3",
         "3",
         "2",
         "138.3"
        ],
        [
         "2",
         "CC1(C)C(N)=N[C@](C)(c2cc(NC(=O)c3ccc(Cl)cn3)ccc2F)CS1(=O)=O",
         "12.045757490560675",
         "438.912",
         "2.9058",
         "2",
         "6",
         "3",
         "3",
         "2",
         "114.51"
        ],
        [
         "3",
         "COc1cnc(C(=O)Nc2ccc(F)c([C@]3(C)CS(=O)(=O)C(C)(C)C(N)=N3)c2)cn1",
         "12.045757490560675",
         "435.481",
         "1.656",
         "2",
         "8",
         "4",
         "3",
         "2",
         "136.63"
        ],
        [
         "4",
         "C[C@]1(CS(=O)(=O)C(C(=N1)N)(C)C)C2=C(C=CC(=C2)NC(=O)C3=CN=C(C=N3)OC)F",
         "12.045757490560675",
         "435.481",
         "1.656",
         "2",
         "8",
         "4",
         "3",
         "2",
         "136.63"
        ]
       ],
       "shape": {
        "columns": 10,
        "rows": 5
       }
      },
      "text/html": [
       "<div>\n",
       "<style scoped>\n",
       "    .dataframe tbody tr th:only-of-type {\n",
       "        vertical-align: middle;\n",
       "    }\n",
       "\n",
       "    .dataframe tbody tr th {\n",
       "        vertical-align: top;\n",
       "    }\n",
       "\n",
       "    .dataframe thead th {\n",
       "        text-align: right;\n",
       "    }\n",
       "</style>\n",
       "<table border=\"1\" class=\"dataframe\">\n",
       "  <thead>\n",
       "    <tr style=\"text-align: right;\">\n",
       "      <th></th>\n",
       "      <th>canonical_smiles</th>\n",
       "      <th>pIC50</th>\n",
       "      <th>MolWt</th>\n",
       "      <th>MolLogP</th>\n",
       "      <th>NumHDonors</th>\n",
       "      <th>NumHAcceptors</th>\n",
       "      <th>NumRotatableBonds</th>\n",
       "      <th>RingCount</th>\n",
       "      <th>NumAromaticRings</th>\n",
       "      <th>TPSA</th>\n",
       "    </tr>\n",
       "  </thead>\n",
       "  <tbody>\n",
       "    <tr>\n",
       "      <th>0</th>\n",
       "      <td>CC1(C)C(N)=N[C@](C)(c2cc(NC(=O)c3ccc(C#N)cn3)c...</td>\n",
       "      <td>12.698970</td>\n",
       "      <td>429.476990</td>\n",
       "      <td>2.12408</td>\n",
       "      <td>2</td>\n",
       "      <td>7</td>\n",
       "      <td>3</td>\n",
       "      <td>3</td>\n",
       "      <td>2</td>\n",
       "      <td>138.300003</td>\n",
       "    </tr>\n",
       "    <tr>\n",
       "      <th>1</th>\n",
       "      <td>C[C@]1(CS(=O)(=O)C(C(=N1)N)(C)C)C2=C(C=CC(=C2)...</td>\n",
       "      <td>12.698970</td>\n",
       "      <td>429.476990</td>\n",
       "      <td>2.12408</td>\n",
       "      <td>2</td>\n",
       "      <td>7</td>\n",
       "      <td>3</td>\n",
       "      <td>3</td>\n",
       "      <td>2</td>\n",
       "      <td>138.300003</td>\n",
       "    </tr>\n",
       "    <tr>\n",
       "      <th>2</th>\n",
       "      <td>CC1(C)C(N)=N[C@](C)(c2cc(NC(=O)c3ccc(Cl)cn3)cc...</td>\n",
       "      <td>12.045757</td>\n",
       "      <td>438.911987</td>\n",
       "      <td>2.90580</td>\n",
       "      <td>2</td>\n",
       "      <td>6</td>\n",
       "      <td>3</td>\n",
       "      <td>3</td>\n",
       "      <td>2</td>\n",
       "      <td>114.510002</td>\n",
       "    </tr>\n",
       "    <tr>\n",
       "      <th>3</th>\n",
       "      <td>COc1cnc(C(=O)Nc2ccc(F)c([C@]3(C)CS(=O)(=O)C(C)...</td>\n",
       "      <td>12.045757</td>\n",
       "      <td>435.480988</td>\n",
       "      <td>1.65600</td>\n",
       "      <td>2</td>\n",
       "      <td>8</td>\n",
       "      <td>4</td>\n",
       "      <td>3</td>\n",
       "      <td>2</td>\n",
       "      <td>136.630005</td>\n",
       "    </tr>\n",
       "    <tr>\n",
       "      <th>4</th>\n",
       "      <td>C[C@]1(CS(=O)(=O)C(C(=N1)N)(C)C)C2=C(C=CC(=C2)...</td>\n",
       "      <td>12.045757</td>\n",
       "      <td>435.480988</td>\n",
       "      <td>1.65600</td>\n",
       "      <td>2</td>\n",
       "      <td>8</td>\n",
       "      <td>4</td>\n",
       "      <td>3</td>\n",
       "      <td>2</td>\n",
       "      <td>136.630005</td>\n",
       "    </tr>\n",
       "  </tbody>\n",
       "</table>\n",
       "</div>"
      ],
      "text/plain": [
       "                                    canonical_smiles      pIC50       MolWt  \\\n",
       "0  CC1(C)C(N)=N[C@](C)(c2cc(NC(=O)c3ccc(C#N)cn3)c...  12.698970  429.476990   \n",
       "1  C[C@]1(CS(=O)(=O)C(C(=N1)N)(C)C)C2=C(C=CC(=C2)...  12.698970  429.476990   \n",
       "2  CC1(C)C(N)=N[C@](C)(c2cc(NC(=O)c3ccc(Cl)cn3)cc...  12.045757  438.911987   \n",
       "3  COc1cnc(C(=O)Nc2ccc(F)c([C@]3(C)CS(=O)(=O)C(C)...  12.045757  435.480988   \n",
       "4  C[C@]1(CS(=O)(=O)C(C(=N1)N)(C)C)C2=C(C=CC(=C2)...  12.045757  435.480988   \n",
       "\n",
       "   MolLogP  NumHDonors  NumHAcceptors  NumRotatableBonds  RingCount  \\\n",
       "0  2.12408           2              7                  3          3   \n",
       "1  2.12408           2              7                  3          3   \n",
       "2  2.90580           2              6                  3          3   \n",
       "3  1.65600           2              8                  4          3   \n",
       "4  1.65600           2              8                  4          3   \n",
       "\n",
       "   NumAromaticRings        TPSA  \n",
       "0                 2  138.300003  \n",
       "1                 2  138.300003  \n",
       "2                 2  114.510002  \n",
       "3                 2  136.630005  \n",
       "4                 2  136.630005  "
      ]
     },
     "metadata": {},
     "output_type": "display_data"
    }
   ],
   "source": [
    "import pandas as pd\n",
    "data = pd.read_parquet(\"../data/preprocessed.parquet\")\n",
    "display(data.info())\n",
    "display(data.head())"
   ]
  }
 ],
 "metadata": {
  "kernelspec": {
   "display_name": "itmo_dde",
   "language": "python",
   "name": "python3"
  },
  "language_info": {
   "codemirror_mode": {
    "name": "ipython",
    "version": 3
   },
   "file_extension": ".py",
   "mimetype": "text/x-python",
   "name": "python",
   "nbconvert_exporter": "python",
   "pygments_lexer": "ipython3",
   "version": "3.13.7"
  }
 },
 "nbformat": 4,
 "nbformat_minor": 5
}
